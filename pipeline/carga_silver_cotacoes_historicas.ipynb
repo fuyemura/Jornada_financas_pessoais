{
 "cells": [
  {
   "cell_type": "markdown",
   "id": "10a30a93",
   "metadata": {},
   "source": [
    "## Imports"
   ]
  },
  {
   "cell_type": "code",
   "execution_count": null,
   "id": "85382964",
   "metadata": {},
   "outputs": [],
   "source": [
    "from pyspark.sql import SparkSession\n",
    "from pyspark.sql.functions import to_date, col, trim\n",
    "from pyspark.sql.types import DecimalType\n",
    "from conexao_bancodedados import connection_mysql, properties_mysql, write_pyspark_mysql"
   ]
  },
  {
   "cell_type": "markdown",
   "id": "1989bb2d",
   "metadata": {},
   "source": [
    "## Start Spark Session"
   ]
  },
  {
   "cell_type": "code",
   "execution_count": null,
   "id": "e44df494",
   "metadata": {},
   "outputs": [],
   "source": [
    "# Criação da SparkSession\n",
    "spark = SparkSession.builder \\\n",
    "    .appName(\"Leitura e Transformação MySQL\") \\\n",
    "    .config(\"spark.executor.memory\", \"8g\") \\\n",
    "    .config(\"spark.driver.memory\", \"4g\") \\\n",
    "    .getOrCreate()"
   ]
  },
  {
   "cell_type": "markdown",
   "id": "5b132a8f",
   "metadata": {},
   "source": [
    "## Variables"
   ]
  },
  {
   "cell_type": "code",
   "execution_count": null,
   "id": "faf9a52a",
   "metadata": {},
   "outputs": [],
   "source": [
    "# Configurações para conexão com o banco de dados MySQL\n",
    "jdbc_url = connection_mysql(\"bronze\")\n",
    "jdbc_properties = properties_mysql()"
   ]
  },
  {
   "cell_type": "markdown",
   "id": "f134635a",
   "metadata": {},
   "source": [
    "## Read Table"
   ]
  },
  {
   "cell_type": "code",
   "execution_count": null,
   "id": "4da89e8a",
   "metadata": {},
   "outputs": [],
   "source": [
    "# Lendo a tabela MySQL no DataFrame do PySpark\n",
    "df = spark.read.jdbc(url=jdbc_url, table='cotahist', properties=jdbc_properties)"
   ]
  },
  {
   "cell_type": "markdown",
   "id": "1d0ea37b",
   "metadata": {},
   "source": [
    "## Transformation"
   ]
  },
  {
   "cell_type": "code",
   "execution_count": null,
   "id": "3a35e7d0",
   "metadata": {},
   "outputs": [],
   "source": [
    "\n",
    "\n",
    "df_transformado = df.select(\n",
    "    to_date(col(\"data_pregao\"), \"yyyyMMdd\").alias(\"data_pregao\"),\n",
    "    trim(col(\"codigo_negociacao\")).alias(\"codigo_negociacao\"),\n",
    "    (col(\"preco_abertura_papel\").cast(\"float\") / 100).alias(\"preco_abertura_papel\"),\n",
    "    (col(\"preco_maximo_papel\").cast(\"float\") / 100).alias(\"preco_maximo_papel\"),\n",
    "    (col(\"preco_minimo_papel\").cast(\"float\") / 100).alias(\"preco_minimo_papel\"),\n",
    "    (col(\"preco_medio_papel\").cast(\"float\") / 100).alias(\"preco_medio_papel\"),\n",
    "    (col(\"preco_ultimo_negocio\").cast(\"float\") / 100).alias(\"preco_ultimo_negocio\"),\n",
    "    (col(\"preco_melhor_oferta_compra\").cast(\"float\") / 100).alias(\"preco_melhor_oferta_compra\"),\n",
    "    (col(\"preco_melhor_oferta_venda\").cast(\"float\") / 100).alias(\"preco_melhor_oferta_venda\"),\n",
    "    (col(\"volume_total_titulos\").cast(\"float\") / 100).alias(\"volume_total_titulos\"),\n",
    "    (col(\"preco_exercicio_opcoes\").cast(\"float\") / 100).alias(\"preco_exercicio_opcoes\"),\n",
    "    (col(\"preco_exercicio_pontos\").cast(DecimalType(7,6)) / 1000000).alias(\"preco_exercicio_pontos\")\n",
    ")\n"
   ]
  },
  {
   "cell_type": "code",
   "execution_count": null,
   "id": "10a64654",
   "metadata": {},
   "outputs": [],
   "source": [
    "# Transformação dos dados\n",
    "\"\"\" df_transformado = df.withColumn(\"data_pregao\", to_date(col(\"data_pregao\"), \"yyyyMMdd\")) \\\n",
    "                    .withColumn(\"codigo_negociacao\", trim(col(\"codigo_negociacao\"))) \\\n",
    "                    .withColumn(\"preco_abertura_papel\", col(\"preco_abertura_papel\").cast(\"float\") / 100) \\\n",
    "                    .withColumn(\"preco_maximo_papel\", col(\"preco_maximo_papel\").cast(\"float\") / 100) \\\n",
    "                    .withColumn(\"preco_minimo_papel\", col(\"preco_minimo_papel\").cast(\"float\") / 100) \\\n",
    "                    .withColumn(\"preco_medio_papel\", col(\"preco_medio_papel\").cast(\"float\") / 100) \\\n",
    "                    .withColumn(\"preco_ultimo_negocio\", col(\"preco_ultimo_negocio\").cast(\"float\") / 100) \\\n",
    "                    .withColumn(\"preco_melhor_oferta_compra\", col(\"preco_melhor_oferta_compra\").cast(\"float\") / 100) \\\n",
    "                    .withColumn(\"preco_melhor_oferta_venda\", col(\"preco_melhor_oferta_venda\").cast(\"float\") / 100) \\\n",
    "                    .withColumn(\"volume_total_titulos\", col(\"volume_total_titulos\").cast(\"float\") / 100) \\\n",
    "                    .withColumn(\"preco_exercicio_opcoes\", col(\"preco_exercicio_opcoes\").cast(\"float\") / 100) \\\n",
    "                    .withColumn(\"preco_exercicio_pontos\", col(\"preco_exercicio_pontos\").cast(DecimalType(7, 6)) / 1000000) \"\"\"\n"
   ]
  },
  {
   "cell_type": "markdown",
   "id": "f5eb482b",
   "metadata": {},
   "source": [
    "## Save Data Frame"
   ]
  },
  {
   "cell_type": "code",
   "execution_count": null,
   "id": "774864a4",
   "metadata": {},
   "outputs": [],
   "source": [
    "write_pyspark_mysql(df, 'cotahist', 'bronze', 'overwrite')"
   ]
  },
  {
   "cell_type": "markdown",
   "id": "4b6696d6",
   "metadata": {},
   "source": [
    "## Stop Spark Session"
   ]
  },
  {
   "cell_type": "code",
   "execution_count": null,
   "id": "1f9f93c1",
   "metadata": {},
   "outputs": [],
   "source": [
    "# Encerra a SparkSession\n",
    "spark.stop()"
   ]
  }
 ],
 "metadata": {
  "language_info": {
   "name": "python"
  }
 },
 "nbformat": 4,
 "nbformat_minor": 5
}
