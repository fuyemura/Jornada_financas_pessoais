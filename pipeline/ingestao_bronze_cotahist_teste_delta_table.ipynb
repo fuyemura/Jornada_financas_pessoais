{
 "cells": [
  {
   "cell_type": "markdown",
   "id": "524a8646",
   "metadata": {},
   "source": [
    "## Imports"
   ]
  },
  {
   "cell_type": "code",
   "execution_count": 19,
   "id": "12bb133b",
   "metadata": {},
   "outputs": [],
   "source": [
    "from pyspark.sql import SparkSession\n",
    "from pyspark.sql.functions import substring, col, trim\n",
    "from datetime import date\n",
    "from conexao_bancodedados import write_pyspark_mysql"
   ]
  },
  {
   "cell_type": "markdown",
   "id": "0989342d",
   "metadata": {},
   "source": [
    "## Start Spark Session"
   ]
  },
  {
   "cell_type": "code",
   "execution_count": 20,
   "id": "ee885a5c",
   "metadata": {},
   "outputs": [],
   "source": [
    "# Inicializa uma SparkSession\n",
    "spark = SparkSession.builder \\\n",
    "    .appName(\"Leitura de Arquivo de Formato Fixo\") \\\n",
    "    .getOrCreate()"
   ]
  },
  {
   "cell_type": "markdown",
   "id": "41147a19",
   "metadata": {},
   "source": [
    "## Variables"
   ]
  },
  {
   "cell_type": "code",
   "execution_count": 21,
   "id": "e6e25c89",
   "metadata": {},
   "outputs": [],
   "source": [
    "ano = date.today().year\n",
    "\n",
    "# Define as posições iniciais e finais de cada campo\n",
    "positions = {\"tipo_registro\": (1, 2),\n",
    "               \"data_pregao\": (3, 10),\n",
    "               \"codigo_bdi\": (11, 12),\n",
    "               \"codigo_negociacao\": (13, 24),\n",
    "               \"tipo_mercado\": (25, 27),\n",
    "               \"nome_resumido_empresa\": (28, 39),\n",
    "               \"especificacao_papel\": (40, 49),\n",
    "               \"prazo_dias_mercado\": (50, 52),\n",
    "               \"moeda_referencia\": (53, 56),\n",
    "               \"preco_abertura_papel\": (57, 69),\n",
    "               \"preco_maximo_papel\": (70, 82),\n",
    "               \"preco_minimo_papel\": (83, 95),\n",
    "               \"preco_medio_papel\": (96, 108),\n",
    "               \"preco_ultimo_negocio\": (109, 121),\n",
    "               \"preco_melhor_oferta_compra\": (122, 134),\n",
    "               \"preco_melhor_oferta_venda\": (135, 147),\n",
    "               \"numero_negocios_efetuados\": (148, 152),\n",
    "               \"quantidade_total_titulos\": (153, 170),\n",
    "               \"volume_total_titulos\": (171, 188),\n",
    "               \"preco_exercicio_opcoes\": (189, 201),\n",
    "               \"indicador_correcao_precos\": (202, 202),\n",
    "               \"data_vencimento_opcoes\": (203, 210),\n",
    "               \"fator_cotacao_papel\": (211, 217),\n",
    "               \"preco_exercicio_pontos\": (218, 230),\n",
    "               \"codigo_papel_sistema\": (231, 242),\n",
    "               \"numero_distribuicao_papel\": (243, 245)\n",
    "\t\t\t   }\n",
    "        "
   ]
  },
  {
   "cell_type": "markdown",
   "id": "0b159e7d",
   "metadata": {},
   "source": [
    "## Read File"
   ]
  },
  {
   "cell_type": "code",
   "execution_count": 22,
   "id": "d512dd7c",
   "metadata": {},
   "outputs": [],
   "source": [
    "# Caminho do arquivo de entrada\n",
    "file_path = r'D:\\Projetos\\Jornada_financas_pessoais\\data\\COTAHIST_A2025.TXT'\n",
    "\n",
    "# Lê o arquivo de formato fixo\n",
    "df = spark.read.text(file_path)"
   ]
  },
  {
   "cell_type": "markdown",
   "id": "12834612",
   "metadata": {},
   "source": [
    "## Transformations"
   ]
  },
  {
   "cell_type": "code",
   "execution_count": 23,
   "id": "45b8b252",
   "metadata": {},
   "outputs": [],
   "source": [
    "# Extrai os campos em formato fixo usando a função substring e trim\n",
    "df = df.select(\n",
    "    *[trim(substring(\"value\", start, end - start + 1)).alias(field) \n",
    "      for field, (start, end) in positions.items()]\n",
    ")\n",
    "\n",
    "df = df.filter(col(\"tipo_registro\") == \"01\")"
   ]
  },
  {
   "cell_type": "code",
   "execution_count": 24,
   "id": "dc1b5e42",
   "metadata": {},
   "outputs": [
    {
     "name": "stdout",
     "output_type": "stream",
     "text": [
      "1896003 registros lidos\n"
     ]
    }
   ],
   "source": [
    "print(df.count(), \"registros lidos\")"
   ]
  },
  {
   "cell_type": "markdown",
   "id": "586fc179",
   "metadata": {},
   "source": [
    "## Save Data Frame"
   ]
  },
  {
   "cell_type": "code",
   "execution_count": 25,
   "id": "8b4054d0",
   "metadata": {},
   "outputs": [
    {
     "name": "stdout",
     "output_type": "stream",
     "text": [
      "[SUCESSO] DataFrame gravado na tabela 'cotahist' (mode=overwrite)!\n"
     ]
    }
   ],
   "source": [
    "write_pyspark_mysql(df, 'cotahist', 'bronze', 'overwrite')"
   ]
  },
  {
   "cell_type": "markdown",
   "id": "698ed870",
   "metadata": {},
   "source": [
    "## Stop Spark Session"
   ]
  },
  {
   "cell_type": "code",
   "execution_count": 26,
   "id": "fa00f230",
   "metadata": {},
   "outputs": [],
   "source": [
    "# Encerra a SparkSession\n",
    "spark.stop()"
   ]
  }
 ],
 "metadata": {
  "kernelspec": {
   "display_name": "jornada-financas-pessoais-py3.11 (3.11.9)",
   "language": "python",
   "name": "python3"
  },
  "language_info": {
   "codemirror_mode": {
    "name": "ipython",
    "version": 3
   },
   "file_extension": ".py",
   "mimetype": "text/x-python",
   "name": "python",
   "nbconvert_exporter": "python",
   "pygments_lexer": "ipython3",
   "version": "3.11.9"
  }
 },
 "nbformat": 4,
 "nbformat_minor": 5
}
