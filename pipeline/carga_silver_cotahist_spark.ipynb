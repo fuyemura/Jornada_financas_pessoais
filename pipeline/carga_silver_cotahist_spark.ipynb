{
 "cells": [
  {
   "cell_type": "code",
   "execution_count": 1,
   "metadata": {},
   "outputs": [],
   "source": [
    "from pyspark.sql import SparkSession\n",
    "from pyspark.sql.functions import substring\n",
    "from datetime import date\n",
    "from conexao import *\n",
    "\n",
    "ano = date.today().year\n",
    "# Inicializa uma SparkSession\n",
    "spark = SparkSession.builder \\\n",
    "    .appName(\"Leitura de Arquivo de Formato Fixo\") \\\n",
    "    .getOrCreate()"
   ]
  },
  {
   "cell_type": "code",
   "execution_count": 2,
   "metadata": {},
   "outputs": [],
   "source": [
    "# Define as posições iniciais e finais de cada campo\n",
    "positions = {\"tipo_registro\": (1, 2),\n",
    "               \"data_pregao\": (3, 10),\n",
    "               \"codigo_bdi\": (11, 12),\n",
    "               \"codigo_negociacao\": (13, 24),\n",
    "               \"tipo_mercado\": (25, 27),\n",
    "               \"nome_resumido_empresa\": (28, 39),\n",
    "               \"especificacao_papel\": (40, 49),\n",
    "               \"prazo_dias_mercado\": (50, 52),\n",
    "               \"moeda_referencia\": (53, 56),\n",
    "               \"preco_abertura_papel\": (57, 69),\n",
    "               \"preco_maximo_papel\": (70, 82),\n",
    "               \"preco_minimo_papel\": (83, 95),\n",
    "               \"preco_medio_papel\": (96, 108),\n",
    "               \"preco_ultimo_negocio\": (109, 121),\n",
    "               \"preco_melhor_oferta_compra\": (122, 134),\n",
    "               \"preco_melhor_oferta_venda\": (135, 147),\n",
    "               \"numero_negocios_efetuados\": (148, 152),\n",
    "               \"quantidade_total_titulos\": (153, 170),\n",
    "               \"volume_total_titulos\": (171, 188),\n",
    "               \"preco_exercicio_opcoes\": (189, 201),\n",
    "               \"indicador_correcao_precos\": (202, 202),\n",
    "               \"data_vencimento_opcoes\": (203, 210),\n",
    "               \"fator_cotacao_papel\": (211, 217),\n",
    "               \"preco_exercicio_pontos\": (218, 230),\n",
    "               \"codigo_papel_sistema\": (231, 242),\n",
    "               \"numero_distribuicao_papel\": (243, 245)\n",
    "\t\t\t   }"
   ]
  },
  {
   "cell_type": "code",
   "execution_count": 4,
   "metadata": {},
   "outputs": [],
   "source": [
    "# Caminho do arquivo de entrada\n",
    "file_path = r'C:\\Users\\Lucas\\OneDrive\\Documentos\\projetos_python\\Jornada_financas_pessoais\\data\\COTAHIST_A2024.TXT'\n",
    "\n",
    "# Lê o arquivo de formato fixo\n",
    "df = spark.read.text(file_path)\n",
    "\n",
    "# Extrai os campos em formato fixo usando a função substring\n",
    "for field, (start, end) in positions.items():\n",
    "    df = df.withColumn(field, substring(\"value\", start, end - start + 1))\n",
    "\n",
    "# Filtrar os registros com tipo do registro igual a 1\n",
    "df = df.filter(df[\"tipo_registro\"] == \"01\")    \n",
    "\n",
    "# Remove a coluna \"value\" original\n",
    "df = df.drop(\"value\")\n"
   ]
  },
  {
   "cell_type": "code",
   "execution_count": 5,
   "metadata": {},
   "outputs": [],
   "source": [
    "# Configurações para conexão com o banco de dados MySQL\n",
    "jdbc_url = connection(database=\"bronze\")\n",
    "jdbc_mode = \"overwrite\"  # Sobrescreve a tabela se ela já existir\n",
    "jdbc_properties = properties()\n",
    "table = 'cotacoes_historicas'\n",
    "\n",
    "# Escreve o DataFrame no banco de dados MySQL\n",
    "df.write.jdbc(url=jdbc_url, table=table, mode=jdbc_mode, properties=jdbc_properties)"
   ]
  },
  {
   "cell_type": "code",
   "execution_count": 6,
   "metadata": {},
   "outputs": [
    {
     "name": "stdout",
     "output_type": "stream",
     "text": [
      "+-------------+-----------+----------+-----------------+------------+---------------------+-------------------+------------------+----------------+--------------------+------------------+------------------+-----------------+--------------------+--------------------------+-------------------------+-------------------------+------------------------+--------------------+----------------------+-------------------------+----------------------+-------------------+----------------------+--------------------+-------------------------+\n",
      "|tipo_registro|data_pregao|codigo_bdi|codigo_negociacao|tipo_mercado|nome_resumido_empresa|especificacao_papel|prazo_dias_mercado|moeda_referencia|preco_abertura_papel|preco_maximo_papel|preco_minimo_papel|preco_medio_papel|preco_ultimo_negocio|preco_melhor_oferta_compra|preco_melhor_oferta_venda|numero_negocios_efetuados|quantidade_total_titulos|volume_total_titulos|preco_exercicio_opcoes|indicador_correcao_precos|data_vencimento_opcoes|fator_cotacao_papel|preco_exercicio_pontos|codigo_papel_sistema|numero_distribuicao_papel|\n",
      "+-------------+-----------+----------+-----------------+------------+---------------------+-------------------+------------------+----------------+--------------------+------------------+------------------+-----------------+--------------------+--------------------------+-------------------------+-------------------------+------------------------+--------------------+----------------------+-------------------------+----------------------+-------------------+----------------------+--------------------+-------------------------+\n",
      "|           01|   20230102|        02|     NEOE3       |         010|         NEOENERGIA  |         ON      NM|                  |            R$  |       0000000001540|     0000000001540|     0000000001498|    0000000001508|       0000000001503|             0000000001503|            0000000001506|                    01916|      000000000000325000|  000000000490215100|         0000000000000|                        0|              99991231|            0000001|         0000000000000|        BRNEOEACNOR3|                      117|\n",
      "|           01|   20230102|        02|     NEXP3       |         010|         NEXPE       |         ON      NM|                  |            R$  |       0000000000031|     0000000000031|     0000000000029|    0000000000029|       0000000000030|             0000000000030|            0000000000031|                    00255|      000000000000197700|  000000000005898000|         0000000000000|                        0|              99991231|            0000001|         0000000000000|        BRNEXPACNOR0|                      100|\n",
      "|           01|   20230102|        02|     NGRD3       |         010|         NEOGRID     |         ON      NM|                  |            R$  |       0000000000148|     0000000000150|     0000000000143|    0000000000146|       0000000000145|             0000000000145|            0000000000146|                    01011|      000000000000589900|  000000000086150900|         0000000000000|                        0|              99991231|            0000001|         0000000000000|        BRNGRDACNOR3|                      102|\n",
      "|           01|   20230102|        02|     NINJ3       |         010|         GETNINJAS   |         ON      NM|                  |            R$  |       0000000000270|     0000000000279|     0000000000269|    0000000000273|       0000000000271|             0000000000271|            0000000000279|                    00421|      000000000000076000|  000000000020792600|         0000000000000|                        0|              99991231|            0000001|         0000000000000|        BRNINJACNOR5|                      100|\n",
      "|           01|   20230102|        02|     NORD3       |         010|         NORDON MET  |         ON        |                  |            R$  |       0000000000848|     0000000000900|     0000000000848|    0000000000857|       0000000000850|             0000000000720|            0000000000849|                    00017|      000000000000002700|  000000000002314300|         0000000000000|                        0|              99991231|            0000001|         0000000000000|        BRNORDACNOR7|                      135|\n",
      "|           01|   20230102|        02|     TTEN3       |         010|         3TENTOS     |         ON      NM|                  |            R$  |       0000000000965|     0000000000965|     0000000000907|    0000000000923|       0000000000936|             0000000000935|            0000000000936|                    03292|      000000000000701700|  000000000648253300|         0000000000000|                        0|              99991231|            0000001|         0000000000000|        BRTTENACNOR0|                      101|\n",
      "|           01|   20230102|        02|     TUPY3       |         010|         TUPY        |         ON  EJ  NM|                  |            R$  |       0000000002771|     0000000002771|     0000000002583|    0000000002637|       0000000002657|             0000000002643|            0000000002657|                    03367|      000000000000573000|  000000001511380400|         0000000000000|                        0|              99991231|            0000001|         0000000000000|        BRTUPYACNOR1|                      180|\n",
      "|           01|   20230102|        02|     UCAS3       |         010|         UNICASA     |         ON      NM|                  |            R$  |       0000000000255|     0000000000255|     0000000000247|    0000000000250|       0000000000249|             0000000000248|            0000000000251|                    00024|      000000000000009600|  000000000002401600|         0000000000000|                        0|              99991231|            0000001|         0000000000000|        BRUCASACNOR1|                      112|\n",
      "|           01|   20230102|        02|     UGPA3       |         010|         ULTRAPAR    |         ON      NM|                  |            R$  |       0000000001240|     0000000001252|     0000000001185|    0000000001201|       0000000001195|             0000000001189|            0000000001195|                    10920|      000000000002973300|  000000003572179500|         0000000000000|                        0|              99991231|            0000001|         0000000000000|        BRUGPAACNOR8|                      152|\n",
      "|           01|   20230102|        02|     ALUP11      |         010|         ALUPAR      |         UNT     N2|                  |            R$  |       0000000002793|     0000000002824|     0000000002720|    0000000002765|       0000000002767|             0000000002767|            0000000002768|                    04721|      000000000000795800|  000000002200878800|         0000000000000|                        0|              99991231|            0000001|         0000000000000|        BRALUPCDAM15|                      113|\n",
      "|           01|   20230102|        02|     DMVF3       |         010|         D1000VFARMA |         ON      NM|                  |            R$  |       0000000000400|     0000000000407|     0000000000395|    0000000000402|       0000000000399|             0000000000399|            0000000000403|                    00046|      000000000000007500|  000000000003017400|         0000000000000|                        0|              99991231|            0000001|         0000000000000|        BRDMVFACNOR9|                      100|\n",
      "|           01|   20230102|        02|     DOHL4       |         010|         DOHLER      |         PN        |                  |            R$  |       0000000000424|     0000000000429|     0000000000421|    0000000000423|       0000000000426|             0000000000418|            0000000000424|                    00012|      000000000000001700|  000000000000719600|         0000000000000|                        0|              99991231|            0000001|         0000000000000|        BRDOHLACNPR9|                      066|\n",
      "|           01|   20230102|        02|     DOTZ3       |         010|         DOTZ SA     |         ON      NM|                  |            R$  |       0000000000129|     0000000000129|     0000000000123|    0000000000124|       0000000000127|             0000000000125|            0000000000127|                    00114|      000000000000029400|  000000000003663800|         0000000000000|                        0|              99991231|            0000001|         0000000000000|        BRDOTZACNOR7|                      100|\n",
      "|           01|   20230102|        02|     DXCO3       |         010|         DEXCO       |         ON  EB  NM|                  |            R$  |       0000000000669|     0000000000669|     0000000000645|    0000000000657|       0000000000663|             0000000000663|            0000000000664|                    05512|      000000000001491800|  000000000980314700|         0000000000000|                        0|              99991231|            0000001|         0000000000000|        BRDXCOACNOR8|                      103|\n",
      "|           01|   20230102|        02|     EALT4       |         010|         ACO ALTONA  |         PN        |                  |            R$  |       0000000000671|     0000000000694|     0000000000656|    0000000000671|       0000000000656|             0000000000656|            0000000000660|                    00164|      000000000000046000|  000000000030887600|         0000000000000|                        0|              99991231|            0000001|         0000000000000|        BREALTACNPR1|                      136|\n",
      "|           01|   20230102|        02|     PORT3       |         010|         WILSON SONS |         ON      NM|                  |            R$  |       0000000001082|     0000000001102|     0000000001058|    0000000001066|       0000000001060|             0000000001060|            0000000001069|                    00705|      000000000000115700|  000000000123348400|         0000000000000|                        0|              99991231|            0000001|         0000000000000|        BRPORTACNOR8|                      103|\n",
      "|           01|   20230102|        02|     POSI3       |         010|         POSITIVO TEC|         ON      NM|                  |            R$  |       0000000000939|     0000000000940|     0000000000866|    0000000000888|       0000000000882|             0000000000881|            0000000000882|                    05082|      000000000001761000|  000000001564475400|         0000000000000|                        0|              99991231|            0000001|         0000000000000|        BRPOSIACNOR9|                      114|\n",
      "|           01|   20230102|        02|     PRIO3       |         010|         PETRORIO    |         ON      NM|                  |            R$  |       0000000003688|     0000000003766|     0000000003645|    0000000003687|       0000000003676|             0000000003676|            0000000003679|                    24159|      000000000006577200|  000000024255931200|         0000000000000|                        0|              99991231|            0000001|         0000000000000|        BRPRIOACNOR1|                      104|\n",
      "|           01|   20230102|        02|     SYNE3       |         010|         SYN PROP TEC|         ON      NM|                  |            R$  |       0000000000413|     0000000000413|     0000000000400|    0000000000405|       0000000000406|             0000000000406|            0000000000408|                    00858|      000000000000857000|  000000000347935200|         0000000000000|                        0|              99991231|            0000001|         0000000000000|        BRSYNEACNOR2|                      102|\n",
      "|           01|   20230102|        02|     BLAU3       |         010|         BLAU        |         ON  EJ  NM|                  |            R$  |       0000000002800|     0000000002800|     0000000002523|    0000000002594|       0000000002603|             0000000002603|            0000000002609|                    01079|      000000000000141000|  000000000365797400|         0000000000000|                        0|              99991231|            0000001|         0000000000000|        BRBLAUACNOR8|                      108|\n",
      "+-------------+-----------+----------+-----------------+------------+---------------------+-------------------+------------------+----------------+--------------------+------------------+------------------+-----------------+--------------------+--------------------------+-------------------------+-------------------------+------------------------+--------------------+----------------------+-------------------------+----------------------+-------------------+----------------------+--------------------+-------------------------+\n",
      "only showing top 20 rows\n",
      "\n"
     ]
    }
   ],
   "source": [
    "# Ler tabela do MySQL Workbeench em um DataFrame\n",
    "df_sql = spark.read\\\n",
    ".format(\"jdbc\")\\\n",
    ".option(\"driver\", \"com.mysql.cj.jdbc.Driver\")\\\n",
    ".option(\"url\", jdbc_url)\\\n",
    ".option(\"query\", \"SELECT * FROM bronze.cotahist\")\\\n",
    ".option(\"user\", \"financasp\")\\\n",
    ".option(\"password\", \"Financasp#321\")\\\n",
    ".load()\n",
    "\n",
    "df_sql.show()\n",
    "\n",
    "\n",
    "\n",
    "# Encerra a SparkSession\n",
    "spark.stop()"
   ]
  }
 ],
 "metadata": {
  "kernelspec": {
   "display_name": "Python 3",
   "language": "python",
   "name": "python3"
  },
  "language_info": {
   "codemirror_mode": {
    "name": "ipython",
    "version": 3
   },
   "file_extension": ".py",
   "mimetype": "text/x-python",
   "name": "python",
   "nbconvert_exporter": "python",
   "pygments_lexer": "ipython3",
   "version": "3.12.1"
  }
 },
 "nbformat": 4,
 "nbformat_minor": 2
}
