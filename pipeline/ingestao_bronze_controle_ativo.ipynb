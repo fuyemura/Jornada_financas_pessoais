{
 "cells": [
  {
   "cell_type": "code",
   "execution_count": 72,
   "metadata": {},
   "outputs": [],
   "source": [
    "# Importar bibliotecas necessárias\n",
    "import pandas as pd\n",
    "import re\n",
    "from conexao_bancodedados import *"
   ]
  },
  {
   "cell_type": "code",
   "execution_count": 131,
   "metadata": {},
   "outputs": [],
   "source": [
    "# Definir o caminho do arquivo CSV\n",
    "csv_file = r'C:\\Users\\Lucas\\OneDrive\\Documentos\\projetos_python\\Jornada_financas_pessoais\\data\\Controle de Ações e FII - Yasmin - FII.csv'\n",
    "\n",
    "# Pega o nome do acionista que está entre os \"- -\"\n",
    "nome_acionista = re.search(r'- (.*) -', csv_file).group()\n",
    "\n",
    "# Ler o arquivo CSV delimitado por vírgula\n",
    "arquivo = pd.read_csv(csv_file, sep=',', names=['DATA', 'PAPEL', 'OP', 'QTD', 'PRECO', 'CUSTO_TOTAL', 'TOTAL_OP', 'RAT', 'VL_LIQUIDO', 'ESTOQUE', 'P_MEDIO', 'GAN_PER', 'IR_MES', 'MES_REF', 'VENDAS_MES'], skiprows=1)\n",
    "\n",
    "# Transforma arquivo em um DataFrame para que possa ser aplicado os métodos\n",
    "df = pd.DataFrame(arquivo)"
   ]
  },
  {
   "cell_type": "code",
   "execution_count": null,
   "metadata": {},
   "outputs": [],
   "source": [
    "# Inclui nome do acionista\n",
    "df['Acionista'] = nome_acionista\n",
    "\n",
    "# Remove \"-\" que estão entre a coluna nome do acionista\n",
    "df['Acionista'] = df['Acionista'].str.replace('-', '')\n",
    "\n",
    "# Exibe Dataframe \n",
    "df.head()"
   ]
  },
  {
   "cell_type": "code",
   "execution_count": 128,
   "metadata": {},
   "outputs": [],
   "source": [
    "# Truncar os dados da tabela antes de carregar\n",
    "truncate_table('bronze','controle_ativo')"
   ]
  },
  {
   "cell_type": "code",
   "execution_count": 132,
   "metadata": {},
   "outputs": [
    {
     "data": {
      "text/plain": [
       "-1"
      ]
     },
     "execution_count": 132,
     "metadata": {},
     "output_type": "execute_result"
    }
   ],
   "source": [
    "# Conexão com o banco de dados na camada \"bronze\":\n",
    "engine = conexao_mysql('bronze')\n",
    "\n",
    "df.to_sql(name='controle_ativo', con=engine, if_exists='append', index=False)"
   ]
  }
 ],
 "metadata": {
  "kernelspec": {
   "display_name": "Python 3",
   "language": "python",
   "name": "python3"
  },
  "language_info": {
   "codemirror_mode": {
    "name": "ipython",
    "version": 3
   },
   "file_extension": ".py",
   "mimetype": "text/x-python",
   "name": "python",
   "nbconvert_exporter": "python",
   "pygments_lexer": "ipython3",
   "version": "3.12.1"
  }
 },
 "nbformat": 4,
 "nbformat_minor": 2
}
