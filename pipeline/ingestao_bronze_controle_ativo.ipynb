{
 "cells": [
  {
   "cell_type": "code",
   "execution_count": 14,
   "metadata": {},
   "outputs": [],
   "source": [
    "# Importar bibliotecas necessárias\n",
    "import pandas as pd\n",
    "import re\n",
    "from conexao_bancodedados import *"
   ]
  },
  {
   "cell_type": "code",
   "execution_count": 25,
   "metadata": {},
   "outputs": [
    {
     "name": "stdout",
     "output_type": "stream",
     "text": [
      "Yasmin\n"
     ]
    }
   ],
   "source": [
    "# Definir o caminho do arquivo CSV\n",
    "csv_file = r'C:\\Users\\Lucas\\OneDrive\\Documentos\\projetos_python\\Jornada_financas_pessoais\\data\\Controle de Ações e FII - Yasmin - FII.csv'\n",
    "\n",
    "# Pega o nome do acionista\n",
    "nome_acionista = csv_file.split()[6]\n",
    "\n",
    "\n",
    "# Ler o arquivo CSV delimitado por vírgula\n",
    "df = pd.read_csv(csv_file, sep=',')"
   ]
  },
  {
   "cell_type": "code",
   "execution_count": null,
   "metadata": {},
   "outputs": [],
   "source": [
    "# Renomear as colunas do DataFrame para corresponder aos nomes das colunas no MySQL\n",
    "df = df.rename(columns={\n",
    "    'DATA': 'data_operacao',  # Substitua pelos nomes das colunas corretos\n",
    "    'PAPEL': 'codigo_negociacao',\n",
    "    'OP': 'tipo_operacao',\n",
    "    'PREÇO': 'preco_ativo',\n",
    "    'QTD': 'quantidade_negociada',\n",
    "    'CUS.T.': 'custo_total',\n",
    "    'TOTAL OP': 'total_operacao',\n",
    "    'RAT.': 'custo_rateado',\n",
    "    'V. LIQUIDO': 'valor_liquido',\n",
    "    'ESTOQUE': 'quantidade_estoque',\n",
    "})\n",
    "\n",
    "# Criando coluna para identificar o nome do acionista\n",
    "df['Acionista'] = 'Yasmin'\n"
   ]
  },
  {
   "cell_type": "code",
   "execution_count": 6,
   "metadata": {},
   "outputs": [],
   "source": [
    "# Truncar os dados da tabela antes de carregar\n",
    "truncate_table('bronze','controle_ativo')"
   ]
  },
  {
   "cell_type": "code",
   "execution_count": null,
   "metadata": {},
   "outputs": [],
   "source": [
    "# Conexão com o banco de dados na camada \"bronze\":\n",
    "engine = conexao_mysql('bronze')\n",
    "\n",
    "df.to_sql(name='controle_ativo', con=engine, if_exists='append', index=False)"
   ]
  }
 ],
 "metadata": {
  "kernelspec": {
   "display_name": "Python 3",
   "language": "python",
   "name": "python3"
  },
  "language_info": {
   "codemirror_mode": {
    "name": "ipython",
    "version": 3
   },
   "file_extension": ".py",
   "mimetype": "text/x-python",
   "name": "python",
   "nbconvert_exporter": "python",
   "pygments_lexer": "ipython3",
   "version": "3.12.1"
  }
 },
 "nbformat": 4,
 "nbformat_minor": 2
}
