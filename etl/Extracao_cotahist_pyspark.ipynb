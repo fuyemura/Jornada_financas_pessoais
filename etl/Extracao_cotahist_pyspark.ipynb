{
 "cells": [
  {
   "cell_type": "markdown",
   "metadata": {},
   "source": [
    "## Projeto Finanças Pessoais com PySpark"
   ]
  },
  {
   "cell_type": "markdown",
   "metadata": {},
   "source": [
    "### Importando bibliotecas PySpark"
   ]
  },
  {
   "cell_type": "code",
   "execution_count": 48,
   "metadata": {},
   "outputs": [],
   "source": [
    "from pyspark.sql import SparkSession\n",
    "from pyspark.sql.functions import *\n",
    "from pyspark.sql.types import *\n",
    "from pyspark.sql import functions as F"
   ]
  },
  {
   "cell_type": "markdown",
   "metadata": {},
   "source": [
    "### Criando SparkSession"
   ]
  },
  {
   "cell_type": "code",
   "execution_count": 30,
   "metadata": {},
   "outputs": [],
   "source": [
    "spark = (\n",
    "    SparkSession.builder\n",
    "    .master('local')\n",
    "    .appName('Spark_Cotacoes_hist_01')\n",
    "    .getOrCreate()\n",
    ")"
   ]
  },
  {
   "cell_type": "markdown",
   "metadata": {},
   "source": [
    "### Lendo arquivo com PySpark\n"
   ]
  },
  {
   "cell_type": "code",
   "execution_count": 133,
   "metadata": {},
   "outputs": [
    {
     "name": "stdout",
     "output_type": "stream",
     "text": [
      "+-------------+-----------+----------+-----------------+------------+---------------------+-------------------+------------------+----------------+--------------------+------------------+------------------+-----------------+--------------------+--------------------------+-------------------------+-------------------------+------------------------+--------------------+----------------------+-------------------------+----------------------+-------------------+----------------------+--------------------+-------------------------+\n",
      "|tipo_registro|data_pregao|codigo_bdi|codigo_negociacao|tipo_mercado|nome_resumido_empresa|especificacao_papel|prazo_dias_mercado|moeda_referencia|preco_abertura_papel|preco_maximo_papel|preco_minimo_papel|preco_medio_papel|preco_ultimo_negocio|preco_melhor_oferta_compra|preco_melhor_oferta_venda|numero_negocios_efetuados|quantidade_total_titulos|volume_total_titulos|preco_exercicio_opcoes|indicador_correcao_precos|data_vencimento_opcoes|fator_cotacao_papel|preco_exercicio_pontos|codigo_papel_sistema|numero_distribuicao_papel|\n",
      "+-------------+-----------+----------+-----------------+------------+---------------------+-------------------+------------------+----------------+--------------------+------------------+------------------+-----------------+--------------------+--------------------------+-------------------------+-------------------------+------------------------+--------------------+----------------------+-------------------------+----------------------+-------------------+----------------------+--------------------+-------------------------+\n",
      "|            1|  202301020|         2|          NEOE3  |          10|          NEOENERGIA |        ON      NM |                  |             R$ |               15400|             15400|             14980|            15080|               15030|                     15030|                    15060|                    19160|                 3250000|          4902151000|                     0|                        0|              99912310|                 00|                     0|         BRNEOEACNOR|                      117|\n",
      "|            1|  202301020|         2|          NEXP3  |          10|          NEXPE      |        ON      NM |                  |             R$ |               00310|             00310|             00290|            00290|               00300|                     00300|                    00310|                    02550|                 1977000|          0058980000|                     0|                        0|              99912310|                 00|                     0|         BRNEXPACNOR|                      100|\n",
      "|            1|  202301020|         2|          NGRD3  |          10|          NEOGRID    |        ON      NM |                  |             R$ |               01480|             01500|             01430|            01460|               01450|                     01450|                    01460|                    10110|                 5899000|          0861509000|                     0|                        0|              99912310|                 00|                     0|         BRNGRDACNOR|                      102|\n",
      "|            1|  202301020|         2|          NINJ3  |          10|          GETNINJAS  |        ON      NM |                  |             R$ |               02700|             02790|             02690|            02730|               02710|                     02710|                    02790|                    04210|                 0760000|          0207926000|                     0|                        0|              99912310|                 00|                     0|         BRNINJACNOR|                      100|\n",
      "|            1|  202301020|         2|          NORD3  |          10|          NORDON MET |        ON         |                  |             R$ |               08480|             09000|             08480|            08570|               08500|                     07200|                    08490|                    00170|                 0027000|          0023143000|                     0|                        0|              99912310|                 00|                     0|         BRNORDACNOR|                      135|\n",
      "|            1|  202301020|         2|          TTEN3  |          10|          3TENTOS    |        ON      NM |                  |             R$ |               09650|             09650|             09070|            09230|               09360|                     09350|                    09360|                    32920|                 7017000|          6482533000|                     0|                        0|              99912310|                 00|                     0|         BRTTENACNOR|                      101|\n",
      "|            1|  202301020|         2|          TUPY3  |          10|          TUPY       |        ON  EJ  NM |                  |             R$ |               27710|             27710|             25830|            26370|               26570|                     26430|                    26570|                    33670|                 5730000|          5113804000|                     0|                        0|              99912310|                 00|                     0|         BRTUPYACNOR|                      180|\n",
      "|            1|  202301020|         2|          UCAS3  |          10|          UNICASA    |        ON      NM |                  |             R$ |               02550|             02550|             02470|            02500|               02490|                     02480|                    02510|                    00240|                 0096000|          0024016000|                     0|                        0|              99912310|                 00|                     0|         BRUCASACNOR|                      112|\n",
      "|            1|  202301020|         2|          UGPA3  |          10|          ULTRAPAR   |        ON      NM |                  |             R$ |               12400|             12520|             11850|            12010|               11950|                     11890|                    11951|                    09200|                 9733000|          5721795000|                     0|                        0|              99912310|                 00|                     0|         BRUGPAACNOR|                      152|\n",
      "|            1|  202301020|         2|          ALUP11 |          10|          ALUPAR     |        UNT     N2 |                  |             R$ |               27930|             28240|             27200|            27650|               27670|                     27670|                    27680|                    47210|                 7958000|          2008788000|                     0|                        0|              99912310|                 00|                     0|         BRALUPCDAM1|                      113|\n",
      "|            1|  202301020|         2|          DMVF3  |          10|          D1000VFARMA|        ON      NM |                  |             R$ |               04000|             04070|             03950|            04020|               03990|                     03990|                    04030|                    00460|                 0075000|          0030174000|                     0|                        0|              99912310|                 00|                     0|         BRDMVFACNOR|                      100|\n",
      "|            1|  202301020|         2|          DOHL4  |          10|          DOHLER     |        PN         |                  |             R$ |               04240|             04290|             04210|            04230|               04260|                     04180|                    04240|                    00120|                 0017000|          0007196000|                     0|                        0|              99912310|                 00|                     0|         BRDOHLACNPR|                      066|\n",
      "|            1|  202301020|         2|          DOTZ3  |          10|          DOTZ SA    |        ON      NM |                  |             R$ |               01290|             01290|             01230|            01240|               01270|                     01250|                    01270|                    01140|                 0294000|          0036638000|                     0|                        0|              99912310|                 00|                     0|         BRDOTZACNOR|                      100|\n",
      "|            1|  202301020|         2|          DXCO3  |          10|          DEXCO      |        ON  EB  NM |                  |             R$ |               06690|             06690|             06450|            06570|               06630|                     06630|                    06640|                    55120|                 4918000|          9803147000|                     0|                        0|              99912310|                 00|                     0|         BRDXCOACNOR|                      103|\n",
      "|            1|  202301020|         2|          EALT4  |          10|          ACO ALTONA |        PN         |                  |             R$ |               06710|             06940|             06560|            06710|               06560|                     06560|                    06600|                    01640|                 0460000|          0308876000|                     0|                        0|              99912310|                 00|                     0|         BREALTACNPR|                      136|\n",
      "|            1|  202301020|         2|          PORT3  |          10|          WILSON SONS|        ON      NM |                  |             R$ |               10820|             11020|             10580|            10660|               10600|                     10600|                    10690|                    07050|                 1157000|          1233484000|                     0|                        0|              99912310|                 00|                     0|         BRPORTACNOR|                      103|\n",
      "|            1|  202301020|         2|          POSI3  |          10|          POSITIVO TE|       CON      NM |                  |             R$ |               09390|             09400|             08660|            08880|               08820|                     08810|                    08820|                    50820|                 7610000|          5644754000|                     0|                        0|              99912310|                 00|                     0|         BRPOSIACNOR|                      114|\n",
      "|            1|  202301020|         2|          PRIO3  |          10|          PETRORIO   |        ON      NM |                  |             R$ |               36880|             37660|             36450|            36870|               36760|                     36760|                    36792|                    41590|                 5772000|          2559312000|                     0|                        0|              99912310|                 00|                     0|         BRPRIOACNOR|                      104|\n",
      "|            1|  202301020|         2|          SYNE3  |          10|          SYN PROP TE|       CON      NM |                  |             R$ |               04130|             04130|             04000|            04050|               04060|                     04060|                    04080|                    08580|                 8570000|          3479352000|                     0|                        0|              99912310|                 00|                     0|         BRSYNEACNOR|                      102|\n",
      "|            1|  202301020|         2|          BLAU3  |          10|          BLAU       |        ON  EJ  NM |                  |             R$ |               28000|             28000|             25230|            25940|               26030|                     26030|                    26090|                    10790|                 1410000|          3657974000|                     0|                        0|              99912310|                 00|                     0|         BRBLAUACNOR|                      108|\n",
      "+-------------+-----------+----------+-----------------+------------+---------------------+-------------------+------------------+----------------+--------------------+------------------+------------------+-----------------+--------------------+--------------------------+-------------------------+-------------------------+------------------------+--------------------+----------------------+-------------------------+----------------------+-------------------+----------------------+--------------------+-------------------------+\n",
      "only showing top 20 rows\n",
      "\n"
     ]
    }
   ],
   "source": [
    "\n",
    "caminho_arquivo = r\"C:\\Users\\Lucas\\OneDrive\\Documentos\\Projetos Python\\Jornada_financas_pessoais\\data\\COTAHIST_A2024.TXT\"\n",
    "posicao_coluna = [(1,1),(2,10),(11,11),(12,18),(25,26),(27,37),(38,49),(50,51),(52,54),(65,69),(78,82),(91,95),(104,108),(117,121),(130,134),(143,147),(148,152),(164,170),(179,188),(201,201),(201, 201),(203, 210),(214, 215),(217, 217),(230, 240), (242, 247)]\n",
    "names_column = [\"tipo_registro\",\n",
    "\"data_pregao\",\n",
    "\"codigo_bdi\",\n",
    "\"codigo_negociacao\",\n",
    "\"tipo_mercado\",\n",
    "\"nome_resumido_empresa\",\n",
    "\"especificacao_papel\",\n",
    "\"prazo_dias_mercado\",\n",
    "\"moeda_referencia\",\n",
    "\"preco_abertura_papel\",\n",
    "\"preco_maximo_papel\",\n",
    "\"preco_minimo_papel\",\n",
    "\"preco_medio_papel\",\n",
    "\"preco_ultimo_negocio\",\n",
    "\"preco_melhor_oferta_compra\",\n",
    "\"preco_melhor_oferta_venda\",\n",
    "\"numero_negocios_efetuados\",\n",
    "\"quantidade_total_titulos\",\n",
    "\"volume_total_titulos\",\n",
    "\"preco_exercicio_opcoes\",\n",
    "\"indicador_correcao_precos\",\n",
    "\"data_vencimento_opcoes\",\n",
    "\"fator_cotacao_papel\",\n",
    "\"preco_exercicio_pontos\",\n",
    "\"codigo_papel_sistema\",\n",
    "\"numero_distribuicao_papel\",\n",
    "]\n",
    "\n",
    "df = spark.read.text(caminho_arquivo)\n",
    "df = df.filter(instr(col('value'),'COTAHIST') == 0)\n",
    "\n",
    "\n",
    "for field,(start, end) in enumerate(posicao_coluna):\n",
    "    column_name = names_column[field]\n",
    "    df = df.withColumn(column_name, substring(df['value'], start + 1, end - start + 1))\n",
    "\n",
    "df = df.drop('value')\n",
    "\n",
    "df.show()\n",
    "\n"
   ]
  }
 ],
 "metadata": {
  "kernelspec": {
   "display_name": "Python 3",
   "language": "python",
   "name": "python3"
  },
  "language_info": {
   "codemirror_mode": {
    "name": "ipython",
    "version": 3
   },
   "file_extension": ".py",
   "mimetype": "text/x-python",
   "name": "python",
   "nbconvert_exporter": "python",
   "pygments_lexer": "ipython3",
   "version": "3.12.1"
  }
 },
 "nbformat": 4,
 "nbformat_minor": 2
}
